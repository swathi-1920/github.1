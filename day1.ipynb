{
 "cells": [
  {
   "cell_type": "markdown",
   "id": "3f4e9fde",
   "metadata": {},
   "source": [
    "# heading1\n",
    "## heading 2\n",
    "### heading3\n",
    "#### heading4\n",
    "##### heading5\n",
    "###### heading6"
   ]
  },
  {
   "cell_type": "code",
   "execution_count": null,
   "id": "b9b918c2",
   "metadata": {},
   "outputs": [],
   "source": []
  },
  {
   "cell_type": "code",
   "execution_count": null,
   "id": "51954cb1",
   "metadata": {},
   "outputs": [],
   "source": []
  },
  {
   "cell_type": "code",
   "execution_count": null,
   "id": "140f9ed0",
   "metadata": {},
   "outputs": [],
   "source": []
  },
  {
   "cell_type": "code",
   "execution_count": null,
   "id": "945d8374",
   "metadata": {},
   "outputs": [],
   "source": []
  },
  {
   "cell_type": "code",
   "execution_count": null,
   "id": "b420ed67",
   "metadata": {},
   "outputs": [],
   "source": []
  },
  {
   "cell_type": "code",
   "execution_count": null,
   "id": "f19c2532",
   "metadata": {},
   "outputs": [],
   "source": []
  },
  {
   "cell_type": "markdown",
   "id": "5db564eb",
   "metadata": {},
   "source": []
  },
  {
   "cell_type": "code",
   "execution_count": 1,
   "id": "1cf60afe",
   "metadata": {},
   "outputs": [
    {
     "ename": "SyntaxError",
     "evalue": "invalid syntax (<ipython-input-1-9d216ba5ed77>, line 1)",
     "output_type": "error",
     "traceback": [
      "\u001b[1;36m  File \u001b[1;32m\"<ipython-input-1-9d216ba5ed77>\"\u001b[1;36m, line \u001b[1;32m1\u001b[0m\n\u001b[1;33m    **bold**\u001b[0m\n\u001b[1;37m    ^\u001b[0m\n\u001b[1;31mSyntaxError\u001b[0m\u001b[1;31m:\u001b[0m invalid syntax\n"
     ]
    }
   ],
   "source": [
    "**bold**"
   ]
  },
  {
   "cell_type": "code",
   "execution_count": 2,
   "id": "70a1896b",
   "metadata": {},
   "outputs": [
    {
     "ename": "SyntaxError",
     "evalue": "invalid syntax (<ipython-input-2-9d216ba5ed77>, line 1)",
     "output_type": "error",
     "traceback": [
      "\u001b[1;36m  File \u001b[1;32m\"<ipython-input-2-9d216ba5ed77>\"\u001b[1;36m, line \u001b[1;32m1\u001b[0m\n\u001b[1;33m    **bold**\u001b[0m\n\u001b[1;37m    ^\u001b[0m\n\u001b[1;31mSyntaxError\u001b[0m\u001b[1;31m:\u001b[0m invalid syntax\n"
     ]
    }
   ],
   "source": [
    "**bold**\n"
   ]
  },
  {
   "cell_type": "code",
   "execution_count": 3,
   "id": "5598ffc6",
   "metadata": {},
   "outputs": [
    {
     "ename": "SyntaxError",
     "evalue": "invalid syntax (<ipython-input-3-0d8f4939d86e>, line 1)",
     "output_type": "error",
     "traceback": [
      "\u001b[1;36m  File \u001b[1;32m\"<ipython-input-3-0d8f4939d86e>\"\u001b[1;36m, line \u001b[1;32m1\u001b[0m\n\u001b[1;33m    *italic*\u001b[0m\n\u001b[1;37m            ^\u001b[0m\n\u001b[1;31mSyntaxError\u001b[0m\u001b[1;31m:\u001b[0m invalid syntax\n"
     ]
    }
   ],
   "source": [
    "*italic*\n"
   ]
  },
  {
   "cell_type": "markdown",
   "id": "cec98b2a",
   "metadata": {},
   "source": [
    "**bold**\n"
   ]
  },
  {
   "cell_type": "markdown",
   "id": "8dd6dcb6",
   "metadata": {},
   "source": [
    "*italic*\n",
    "**bold**\n",
    "***bold italic***"
   ]
  },
  {
   "cell_type": "markdown",
   "id": "5a559931",
   "metadata": {},
   "source": [
    "* normal text\n",
    "   * sublist1\n",
    "   * sublist2\n",
    "   * sublist3\n",
    "   "
   ]
  },
  {
   "cell_type": "markdown",
   "id": "3616cc4f",
   "metadata": {},
   "source": [
    "<img src = \"apssdclogo.png\">"
   ]
  },
  {
   "cell_type": "markdown",
   "id": "237d5a55",
   "metadata": {},
   "source": [
    "<img src = \"apssdclogo.png\">"
   ]
  },
  {
   "cell_type": "markdown",
   "id": "65b5189b",
   "metadata": {},
   "source": [
    "# comments in python\n",
    "1. single line comment\n",
    "2. multi line comment\n"
   ]
  },
  {
   "cell_type": "code",
   "execution_count": 6,
   "id": "17dadef5",
   "metadata": {},
   "outputs": [
    {
     "ename": "SyntaxError",
     "evalue": "EOL while scanning string literal (<ipython-input-6-a66c17eb1472>, line 8)",
     "output_type": "error",
     "traceback": [
      "\u001b[1;36m  File \u001b[1;32m\"<ipython-input-6-a66c17eb1472>\"\u001b[1;36m, line \u001b[1;32m8\u001b[0m\n\u001b[1;33m    \"\"\"\"\u001b[0m\n\u001b[1;37m        \n^\u001b[0m\n\u001b[1;31mSyntaxError\u001b[0m\u001b[1;31m:\u001b[0m EOL while scanning string literal\n"
     ]
    }
   ],
   "source": [
    "# single line comment\n",
    "print(\"hello world\")\n",
    "\"\"\"\"\n",
    "multi \n",
    "line\n",
    "comment\n",
    "\n",
    "\"\"\"\""
   ]
  },
  {
   "cell_type": "code",
   "execution_count": 8,
   "id": "a22461d0",
   "metadata": {},
   "outputs": [
    {
     "name": "stdout",
     "output_type": "stream",
     "text": [
      "hello world\n"
     ]
    },
    {
     "data": {
      "text/plain": [
       "'\\nmulti \\nline\\ncomment\\n\\n'"
      ]
     },
     "execution_count": 8,
     "metadata": {},
     "output_type": "execute_result"
    }
   ],
   "source": [
    "# single line comment\n",
    "print(\"hello world\")\n",
    "\"\"\"\n",
    "multi \n",
    "line\n",
    "comment\n",
    "\n",
    "\"\"\""
   ]
  },
  {
   "cell_type": "code",
   "execution_count": 14,
   "id": "ae8a0451",
   "metadata": {},
   "outputs": [
    {
     "name": "stdout",
     "output_type": "stream",
     "text": [
      "swathi\n",
      "swathi\n",
      "swathi\n",
      "swathi\n",
      "swathi\n",
      "swathi\n",
      "\n"
     ]
    }
   ],
   "source": [
    "# to print my name 5 times using print statement\n",
    "print('swathi\\n'*6)\n"
   ]
  },
  {
   "cell_type": "code",
   "execution_count": 15,
   "id": "2785421c",
   "metadata": {},
   "outputs": [
    {
     "name": "stdout",
     "output_type": "stream",
     "text": [
      "swathi\tswathi\tswathi\tswathi\tswathi\tswathi\t\n"
     ]
    }
   ],
   "source": [
    "# to print my name 5 times using print statement\n",
    "print('swathi\\t'*6)\n"
   ]
  },
  {
   "cell_type": "markdown",
   "id": "d19c7d92",
   "metadata": {},
   "source": [
    "### variables\n",
    "- a python variable is a reserved memory location to store values"
   ]
  },
  {
   "cell_type": "code",
   "execution_count": 16,
   "id": "73b2055c",
   "metadata": {},
   "outputs": [
    {
     "name": "stdout",
     "output_type": "stream",
     "text": [
      "12\n",
      "a\n"
     ]
    }
   ],
   "source": [
    "a = 12\n",
    "print(a)\n",
    "print(\"a\")\n"
   ]
  },
  {
   "cell_type": "code",
   "execution_count": 19,
   "id": "2e92be8b",
   "metadata": {},
   "outputs": [
    {
     "data": {
      "text/plain": [
       "'apssdc'"
      ]
     },
     "execution_count": 19,
     "metadata": {},
     "output_type": "execute_result"
    }
   ],
   "source": [
    "a = \"apssdc\"\n",
    "a\n",
    "#print(a)"
   ]
  },
  {
   "cell_type": "code",
   "execution_count": 28,
   "id": "8ccd5924",
   "metadata": {},
   "outputs": [
    {
     "name": "stdout",
     "output_type": "stream",
     "text": [
      "12 \n",
      " 10 \n",
      " 9\n",
      "**********************\n"
     ]
    }
   ],
   "source": [
    "#x = 12 # single variable assignment\n",
    "#y = 10\n",
    "#z = 9\n",
    "x,y,z = 12,10,9 #multiple variable assignment\n",
    "print(x,'\\n',y,'\\n',z)\n",
    "print(\"**********************\")"
   ]
  },
  {
   "cell_type": "markdown",
   "id": "ca2c803b",
   "metadata": {},
   "source": [
    "### python keywords\n",
    " - keywords are the reserved words in python. we cannot use keywords as a variable name.\n",
    " function name or any other identifier.\n",
    " "
   ]
  },
  {
   "cell_type": "code",
   "execution_count": 1,
   "id": "63f3df38",
   "metadata": {},
   "outputs": [
    {
     "name": "stdout",
     "output_type": "stream",
     "text": [
      "['False', 'None', 'True', 'and', 'as', 'assert', 'async', 'await', 'break', 'class', 'continue', 'def', 'del', 'elif', 'else', 'except', 'finally', 'for', 'from', 'global', 'if', 'import', 'in', 'is', 'lambda', 'nonlocal', 'not', 'or', 'pass', 'raise', 'return', 'try', 'while', 'with', 'yield']\n"
     ]
    }
   ],
   "source": [
    "import keyword\n",
    "print(keyword.kwlist)\n",
    "#l = keyword.kwlist\n",
    "#print(len(l))"
   ]
  },
  {
   "cell_type": "code",
   "execution_count": 2,
   "id": "8371cd0e",
   "metadata": {},
   "outputs": [
    {
     "name": "stdout",
     "output_type": "stream",
     "text": [
      "35\n"
     ]
    }
   ],
   "source": [
    "l = keyword.kwlist\n",
    "print(len(l))"
   ]
  },
  {
   "cell_type": "code",
   "execution_count": null,
   "id": "61d02e9f",
   "metadata": {},
   "outputs": [],
   "source": []
  }
 ],
 "metadata": {
  "kernelspec": {
   "display_name": "Python 3",
   "language": "python",
   "name": "python3"
  },
  "language_info": {
   "codemirror_mode": {
    "name": "ipython",
    "version": 3
   },
   "file_extension": ".py",
   "mimetype": "text/x-python",
   "name": "python",
   "nbconvert_exporter": "python",
   "pygments_lexer": "ipython3",
   "version": "3.8.8"
  }
 },
 "nbformat": 4,
 "nbformat_minor": 5
}
